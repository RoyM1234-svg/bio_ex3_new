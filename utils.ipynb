{
 "cells": [
  {
   "cell_type": "code",
   "execution_count": null,
   "metadata": {
    "id": "Hec1cryOeET1"
   },
   "outputs": [],
   "source": [
    "# delete this cell if working on Pycharm\n",
    "# !pip install Bio"
   ]
  },
  {
   "cell_type": "code",
   "execution_count": 2,
   "metadata": {
    "id": "mm2sUeKhcGEv"
   },
   "outputs": [],
   "source": [
    "from Bio.PDB import *\n",
    "import numpy as np\n",
    "import os\n",
    "from tqdm import tqdm"
   ]
  },
  {
   "cell_type": "code",
   "execution_count": 3,
   "metadata": {
    "id": "o9k0WEa0cNO0"
   },
   "outputs": [],
   "source": [
    "NB_MAX_LENGTH = 140\n",
    "AA_DICT = {\"A\": 0, \"C\": 1, \"D\": 2, \"E\": 3, \"F\": 4, \"G\": 5, \"H\": 6, \"I\": 7, \"K\": 8, \"L\": 9, \"M\": 10, \"N\": 11,\n",
    "           \"P\": 12, \"Q\": 13, \"R\": 14, \"S\": 15, \"T\": 16, \"W\": 17, \"Y\": 18, \"V\": 19, \"X\": 20, \"-\": 21}\n",
    "FEATURE_NUM = len(AA_DICT)\n",
    "BACKBONE_ATOMS = [\"N\", \"CA\", \"C\", \"O\", \"CB\"]\n",
    "OUTPUT_SIZE = len(BACKBONE_ATOMS) * 3\n",
    "NB_CHAIN_ID = \"H\"\n"
   ]
  },
  {
   "cell_type": "code",
   "execution_count": 4,
   "metadata": {
    "id": "qNxeyEawcZ9y"
   },
   "outputs": [],
   "source": [
    "def get_seq_aa(pdb_file, chain_id):\n",
    "    \"\"\"\n",
    "    returns the sequence (String) and a list of all the aa residue objects of the given protein chain.\n",
    "    :param pdb_file: path to a pdb file\n",
    "    :param chain_id: chain letter (char)\n",
    "    :return: sequence, [aa objects]\n",
    "    \"\"\"\n",
    "    # load model\n",
    "    chain = PDBParser(QUIET=True).get_structure(pdb_file, pdb_file)[0][chain_id]\n",
    "\n",
    "    aa_residues = []\n",
    "    seq = \"\"\n",
    "\n",
    "    for residue in chain.get_residues():\n",
    "        aa = residue.get_resname()\n",
    "        if not is_aa(aa) or not residue.has_id('CA'): # Not amino acid\n",
    "            continue\n",
    "        elif aa == \"UNK\":  # unkown amino acid\n",
    "            seq += \"X\"\n",
    "        else:\n",
    "            seq += Polypeptide.three_to_one(residue.get_resname())\n",
    "        aa_residues.append(residue)\n",
    "\n",
    "    return seq, aa_residues"
   ]
  },
  {
   "cell_type": "code",
   "execution_count": 5,
   "metadata": {
    "id": "fNh1JDxtcgnF"
   },
   "outputs": [],
   "source": [
    "def generate_input(pdb_file): # TODO: implement this!\n",
    "    \"\"\"\n",
    "    receives a pdb file and returns its sequence in a one-hot encoding matrix (each row is an aa in the sequence, and\n",
    "    each column represents a different aa out of the 20 aa + 2 special columns).\n",
    "    :param pdb_file: path to a pdb file (nanobody, heavy chain has id 'H')\n",
    "    :return: numpy array of shape (NB_MAX_LENGTH, FEATURE_NUM)\n",
    "    \"\"\"\n",
    "\n",
    "    # get seq and aa residues\n",
    "    seq, _ = get_seq_aa(pdb_file, NB_CHAIN_ID)\n",
    "    encoded_one_hots = np.zeros((NB_MAX_LENGTH, FEATURE_NUM))\n",
    "\n",
    "    \n",
    "    for i, aa in enumerate(seq):\n",
    "        #Todo check if this is correct\n",
    "        if aa not in AA_DICT:\n",
    "            encoded_one_hots[i][AA_DICT['X']] = 1\n",
    "        else:\n",
    "            encoded_one_hots[i][AA_DICT[aa]] = 1\n",
    "\n",
    "    if len(seq) < NB_MAX_LENGTH:\n",
    "        encoded_one_hots[len(seq):, AA_DICT['-']] = 1\n",
    "\n",
    "    return encoded_one_hots"
   ]
  },
  {
   "cell_type": "code",
   "execution_count": 6,
   "metadata": {},
   "outputs": [
    {
     "name": "stdout",
     "output_type": "stream",
     "text": [
      "(140, 22)\n"
     ]
    }
   ],
   "source": [
    "print(generate_input('Ex4Data/1AI1_1.pdb').shape)"
   ]
  },
  {
   "cell_type": "code",
   "execution_count": 7,
   "metadata": {
    "id": "b5G7dbbccolV"
   },
   "outputs": [],
   "source": [
    "def generate_label(pdb_file):  # TODO: implement this!\n",
    "    \"\"\"\n",
    "    receives a pdb file and returns its backbone + CB coordinates.\n",
    "    :param pdb_file: path to a pdb file (nanobody, heavy chain has id 'H') already alingned to a reference nanobody.\n",
    "    :return: numpy array of shape (CDR_MAX_LENGTH, OUTPUT_SIZE).\n",
    "    \"\"\"\n",
    "    # get seq and aa residues\n",
    "    seq, aa_residues = get_seq_aa(pdb_file, NB_CHAIN_ID)\n",
    "\n",
    "    coorrdinates_arr = np.zeros((NB_MAX_LENGTH,OUTPUT_SIZE ))\n",
    "\n",
    "    for i, res in enumerate(aa_residues):\n",
    "        n_atom_coords = res['N'].get_coord()\n",
    "        ca_atom_coords = res[\"CA\"].get_coord()\n",
    "        c_atom_coords = res[\"C\"].get_coord()\n",
    "        o_atom_coords = res[\"O\"].get_coord()\n",
    "        \n",
    "        if res.get_resname() != \"GLY\" and \"CB\" in res:\n",
    "            cb_atom_coords = res[\"CB\"].get_coord()\n",
    "        else:\n",
    "            cb_atom_coords = np.zeros(3)\n",
    "\n",
    "        coorrdinates_arr[i, 0:3] = n_atom_coords\n",
    "        coorrdinates_arr[i, 3:6] = ca_atom_coords\n",
    "        coorrdinates_arr[i, 6:9] = c_atom_coords\n",
    "        coorrdinates_arr[i, 9:12] = o_atom_coords\n",
    "        coorrdinates_arr[i, 12:15] = cb_atom_coords\n",
    "\n",
    "    return coorrdinates_arr\n"
   ]
  },
  {
   "cell_type": "code",
   "execution_count": 8,
   "metadata": {},
   "outputs": [
    {
     "data": {
      "text/plain": [
       "(140, 15)"
      ]
     },
     "execution_count": 8,
     "metadata": {},
     "output_type": "execute_result"
    }
   ],
   "source": [
    "generate_label(('Ex4Data/1AI1_1.pdb')).shape"
   ]
  },
  {
   "cell_type": "code",
   "execution_count": 9,
   "metadata": {
    "id": "1p6szo4hKjY5"
   },
   "outputs": [],
   "source": [
    "def matrix_to_pdb(seq, coord_matrix, pdb_name):\n",
    "    \"\"\"\n",
    "    Receives a sequence (String) and the output matrix of the neural network (coord_matrix, numpy array)\n",
    "    and creates from them a PDB file named pdb_name.pdb.\n",
    "    :param seq: protein sequence (String), with no padding\n",
    "    :param coord_matrix: output np array of the nanobody neural network, shape = (NB_MAX_LENGTH, OUTPUT_SIZE)\n",
    "    :param pdb_name: name of the output PDB file (String)\n",
    "    \"\"\"\n",
    "    ATOM_LINE = \"ATOM{}{}  {}{}{} {}{}{}{}{:.3f}{}{:.3f}{}{:.3f}  1.00{}{:.2f}           {}\\n\"\n",
    "    END_LINE = \"END\\n\"\n",
    "    k = 1\n",
    "    with open(f\"{pdb_name}.pdb\", \"w\") as pdb_file:\n",
    "        for i, aa in enumerate(seq):\n",
    "            third_space = (4 - len(str(i))) * \" \"\n",
    "            for j, atom in enumerate(BACKBONE_ATOMS):\n",
    "                if not (aa == \"G\" and atom == \"CB\"):  # GLY lacks CB atom\n",
    "                    x, y, z = coord_matrix[i][3*j], coord_matrix[i][3*j+1], coord_matrix[i][3*j+2]\n",
    "                    b_factor = 0.00\n",
    "                    first_space = (7 - len(str(k))) * \" \"\n",
    "                    second_space = (4 - len(atom)) * \" \"\n",
    "                    forth_space = (12 - len(\"{:.3f}\".format(x))) * \" \"\n",
    "                    fifth_space = (8 - len(\"{:.3f}\".format(y))) * \" \"\n",
    "                    sixth_space = (8 - len(\"{:.3f}\".format(z))) * \" \"\n",
    "                    seventh_space = (6 - len(\"{:.2f}\".format(b_factor))) * \" \"\n",
    "\n",
    "                    pdb_file.write(ATOM_LINE.format(first_space, k, atom, second_space, Polypeptide.one_to_three(aa) , \"H\", third_space, \n",
    "                                                    i, forth_space, x, fifth_space, y, sixth_space, z, seventh_space,\n",
    "                                                    b_factor, atom[0]))\n",
    "                    k += 1\n",
    "\n",
    "        pdb_file.write(END_LINE)"
   ]
  },
  {
   "cell_type": "code",
   "execution_count": null,
   "metadata": {
    "id": "f5Gxoyt_cowc"
   },
   "outputs": [],
   "source": [
    "if __name__ == '__main__':\n",
    "    \n",
    "   #  you can make all the data for the network in this section.\n",
    "   # you can save the matrices to your drive and load them in your google colab file later.\n",
    "\n",
    "\n",
    "    input_matrix = []\n",
    "    labels_matrix = []\n",
    "    data_path = \"/content/drive/MyDrive/Ex4Files/Ex4Data\"  # TODO: change path if needed\n",
    "    \n",
    "    for pdb in tqdm(os.listdir(data_path)):\n",
    "\n",
    "        nb_one_hot = generate_input(os.path.join(data_path, pdb))\n",
    "        nb_xyz = generate_label(os.path.join(data_path, pdb))\n",
    "    \n",
    "        input_matrix.append(nb_one_hot)\n",
    "        labels_matrix.append(nb_xyz)\n",
    "\n",
    "    save_path = \"/content/drive/MyDrive/Ex4Files\"  # TODO: change path if needed\n",
    "\n",
    "    np.save(f\"{save_path}/train_input.npy\", np.array(input_matrix))\n",
    "    np.save(f\"{save_path}/train_labels.npy\", np.array(labels_matrix))\n",
    "\n",
    "    print(f\"Number of samples: {len(input_matrix)}\")\n",
    "\n"
   ]
  }
 ],
 "metadata": {
  "colab": {
   "authorship_tag": "ABX9TyMDXHOTkYdz5JSXh6IcjMfh",
   "collapsed_sections": [],
   "mount_file_id": "1p8NpT3iHxSzdS9SjGxX1lo350WwupkoN",
   "name": "utils.ipynb",
   "provenance": [
    {
     "file_id": "14MEmGGblX1MERq08Q06tQP_pERgEGNl3",
     "timestamp": 1618651974479
    }
   ]
  },
  "kernelspec": {
   "display_name": ".venv",
   "language": "python",
   "name": "python3"
  },
  "language_info": {
   "codemirror_mode": {
    "name": "ipython",
    "version": 3
   },
   "file_extension": ".py",
   "mimetype": "text/x-python",
   "name": "python",
   "nbconvert_exporter": "python",
   "pygments_lexer": "ipython3",
   "version": "3.9.21"
  }
 },
 "nbformat": 4,
 "nbformat_minor": 0
}
